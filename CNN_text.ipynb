{
 "cells": [
  {
   "cell_type": "markdown",
   "metadata": {},
   "source": [
    "## 思路：\n",
    "1.将文件夹中的txt文件读取出来（去重）放入集合，然后对他们进行切词，并且分为训练和测试集\n",
    "2.将词根据词频从大到小排列放入列表，选取特征词\n",
    "3.将训练集和测试集的词和选取的特征词进行比较，得到特征词训练和测试集\n",
    "4.将得到的训练集和测试集放入nltk分类器，得到正确率"
   ]
  },
  {
   "cell_type": "code",
   "execution_count": 1,
   "metadata": {},
   "outputs": [],
   "source": [
    "#coding: utf-8\n",
    "import os\n",
    "import jieba  #process Chinese\n",
    "from sklearn.naive_bayes import MultinomialNB\n",
    "import matplotlib.pyplot as plt\n",
    "from sklearn.model_selection import train_test_split\n",
    "from sklearn.metrics import confusion_matrix\n",
    "from sklearn import svm\n",
    "from sklearn.multiclass import OneVsRestClassifier\n",
    "from sklearn.model_selection import cross_val_score\n",
    "from collections import Counter"
   ]
  },
  {
   "cell_type": "code",
   "execution_count": 2,
   "metadata": {},
   "outputs": [],
   "source": [
    "#remove repeated\n",
    "def make_word_set(words_file):\n",
    "    words_set = set()\n",
    "    with open(words_file, 'rb') as fp:\n",
    "        for line in fp.readlines():\n",
    "            word = line.strip().decode('utf-8')\n",
    "            if len(word)>0 and word not in words_set:\n",
    "                words_set.add(word)\n",
    "    return words_set\n"
   ]
  },
  {
   "cell_type": "code",
   "execution_count": 3,
   "metadata": {},
   "outputs": [],
   "source": [
    "def text_processing(folder_path, test_size=0.4):\n",
    "    folder_list = os.listdir(folder_path)\n",
    "    data_list = []\n",
    "    class_list = []\n",
    "\n",
    "    # search all the folder\n",
    "    for folder in folder_list:\n",
    "        new_folder_path = os.path.join(folder_path, folder)\n",
    "        files = os.listdir(new_folder_path)\n",
    "        # read file\n",
    "        j = 1\n",
    "        for file in files:\n",
    "#             if j > 100:  #every times we just get 100 files to avoid memory exploded\n",
    "#                 break\n",
    "            with open(os.path.join(new_folder_path, file), 'rb') as fp:\n",
    "                raw = fp.read().decode('utf-8')\n",
    "            word_cut = jieba.cut(raw, cut_all=False)  # return genertor\n",
    "            word_list = list(word_cut)  # transfer generator into list\n",
    "\n",
    "            data_list.append(word_list)  \n",
    "            class_list.append(folder)  # the label is every folder name\n",
    "            j += 1\n",
    "\n",
    "    #split training set and testing set\n",
    "    train_data_list, test_data_list, train_class_list, test_class_list = train_test_split(data_list, class_list, test_size=test_size)\n",
    "\n",
    "    # make a term frequency count and sorted \n",
    "    all_words_dict = {}\n",
    "    for word_list in train_data_list:\n",
    "        words_dict = Counter([word for word in word_list])\n",
    "        all_words_dict = dict(Counter(all_words_dict)+words_dict)\n",
    "    \n",
    "    all_words_tuple_list = sorted(all_words_dict.items(), key=lambda f: f[1], reverse=True)  \n",
    "    all_words_list = list(zip(*all_words_tuple_list))[0]\n",
    "\n",
    "    return data_list, class_list, all_words_list, train_data_list, test_data_list, train_class_list, test_class_list\n"
   ]
  },
  {
   "cell_type": "code",
   "execution_count": 4,
   "metadata": {},
   "outputs": [],
   "source": [
    "def words_dict(all_words_list, deleteN, stopwords_set=set()):\n",
    "    # choose feature words\n",
    "    feature_words = []\n",
    "    n = 1\n",
    "    for t in range(deleteN, len(all_words_list), 1):\n",
    "        if n > 1000:  # we just choose top 1000 featrues \n",
    "            break\n",
    "        # drop stopwords in the text\n",
    "        if not all_words_list[t].isdigit() and all_words_list[t] not in stopwords_set and 1 < len(\n",
    "                all_words_list[t]) < 5:\n",
    "            feature_words.append(all_words_list[t])\n",
    "            n += 1\n",
    "    return feature_words\n"
   ]
  },
  {
   "cell_type": "markdown",
   "metadata": {},
   "source": [
    "text_features这个函数目的是将训练集和测试集中的文本和生成的特征词文本进行比较，如果是特征词返回1，不是返回0，生成训练特征集和测试特征集"
   ]
  },
  {
   "cell_type": "code",
   "execution_count": 5,
   "metadata": {},
   "outputs": [],
   "source": [
    "# get the featute list\n",
    "def text_features(data_list, train_data_list, test_data_list,  feature_words, flag='nltk'):\n",
    "    def text_features(text, feature_words):\n",
    "        text_words = set(text)\n",
    "        ## -----------------------------------------------------------------------------------\n",
    "        if flag == 'NB' or 'svm':\n",
    "            ## NB or svm feature dict\n",
    "            features = [1 if word in text_words else 0 for word in feature_words]\n",
    "        elif flag == 'CNN':\n",
    "            ## sklearn特征 list\n",
    "            features = [word for word in feature_words if word in text_words]\n",
    "        else:\n",
    "            features = []\n",
    "        ## -----------------------------------------------------------------------------------\n",
    "        return features\n",
    "    data = [text_features(text, feature_words) for text in data_list]\n",
    "    train_feature_list = [text_features(text, feature_words) for text in train_data_list]\n",
    "    test_feature_list = [text_features(text, feature_words) for text in test_data_list]\n",
    "    return data, train_feature_list, test_feature_list\n",
    "\n",
    "\n"
   ]
  },
  {
   "cell_type": "markdown",
   "metadata": {},
   "source": [
    "分类器：选用了nltk中的朴素贝叶斯分类器和sklearn的svm进行多分类"
   ]
  },
  {
   "cell_type": "code",
   "execution_count": 14,
   "metadata": {},
   "outputs": [],
   "source": [
    "from sklearn.metrics import f1_score,confusion_matrix\n",
    "import seaborn as sns # data visualization library  \n",
    "import matplotlib.pyplot as plt\n",
    "from sklearn.metrics import accuracy_score\n",
    "def text_classifier(train_feature_list, test_feature_list, train_class_list, test_class_list, flag='NB'):\n",
    "    ## -----------------------------------------------------------------------------------\n",
    "    if flag == 'NB':\n",
    "        classifier = MultinomialNB().fit(train_feature_list, train_class_list)\n",
    "        test_accuracy = classifier.score(test_feature_list, test_class_list)\n",
    "        y_pred = classifier.predict(test_feature_list)\n",
    "        y_true = test_class_list\n",
    "        cm = confusion_matrix(y_true,y_pred)\n",
    "    elif flag == 'svm':\n",
    "        ## sklearn classifier\n",
    "        model = OneVsRestClassifier(svm.SVC(kernel='rbf'))\n",
    "        classifier = model.fit(train_feature_list, train_class_list)\n",
    "        test_accuracy= classifier.score(test_feature_list, test_class_list)\n",
    "#         test_accuracy = classifier.score(test_feature_list, test_class_list)\n",
    "#         y_predict_test = classifier.predict(test_feature_list)\n",
    "#         cm = confusion_matrix(test_class_list, y_predict_test)\n",
    "        y_pred = classifier.predict(test_feature_list)\n",
    "        y_true = test_class_list\n",
    "        cm = confusion_matrix(y_true,y_pred)\n",
    "    else:\n",
    "        test_accuracy = []\n",
    "    return cm, test_accuracy\n"
   ]
  },
  {
   "cell_type": "code",
   "execution_count": 15,
   "metadata": {},
   "outputs": [
    {
     "name": "stdout",
     "output_type": "stream",
     "text": [
      "start\n",
      "[[10  0  0  0]\n",
      " [ 0 12  0  0]\n",
      " [ 0  0 11  1]\n",
      " [ 0  0  0  7]]\n"
     ]
    },
    {
     "data": {
      "image/png": "[encoded data removed]",
      "text/plain": [
       "<matplotlib.figure.Figure at 0x26c367112b0>"
      ]
     },
     "metadata": {},
     "output_type": "display_data"
    },
    {
     "name": "stdout",
     "output_type": "stream",
     "text": [
      "finished\n"
     ]
    }
   ],
   "source": [
    "if __name__ == '__main__':\n",
    "    \n",
    "    print (\"start\")\n",
    "\n",
    "    folder_path = 'Database/SogouC/Sample'\n",
    "    data_list, class_list, all_words_list, train_data_list, test_data_list, train_class_list, test_class_list = text_processing(folder_path, test_size=0.2)\n",
    "\n",
    "    # get stopwords_set\n",
    "    stopwords_file = 'stopwords_cn.txt'\n",
    "    stopwords_set = make_word_set(stopwords_file)\n",
    "\n",
    "    # deleteNs means the first position we choose the feature words\n",
    "    deleteN = 20\n",
    "    test_accuracy_list = []\n",
    "    #for deleteN in deleteNs:\n",
    "    feature_words = words_dict(all_words_list, deleteN, stopwords_set)\n",
    "    data, train_feature_list, test_feature_list = text_features(data_list, train_data_list, test_data_list, feature_words,flag='svm')\n",
    "    cm, test_accuracy = text_classifier(train_feature_list, test_feature_list, train_class_list, test_class_list,flag='svm')\n",
    "#     test_accuracy_list.append(test_accuracy)\n",
    "#     best_accuracy = sorted(test_accuracy_list)[-1]\n",
    "    \n",
    "#     print (best_accuracy)\n",
    "    print(cm)\n",
    "    sns.heatmap(cm,annot=True,fmt=\"d\")\n",
    "    plt.show()\n",
    "#     # 结果评价\n",
    "#     plt.figure()\n",
    "#     plt.plot(deleteNs, test_accuracy_list)\n",
    "#     plt.title('Relationship of deleteNs and test_accuracy_NB')\n",
    "#     plt.xlabel('deleteNs')\n",
    "#     plt.ylabel('test_accuracy')\n",
    "#     plt.show()\n",
    "#     plt.savefig('result_NB.png')\n",
    "\n",
    "    print (\"finished\")"
   ]
  },
  {
   "cell_type": "code",
   "execution_count": 10,
   "metadata": {},
   "outputs": [
    {
     "name": "stdout",
     "output_type": "stream",
     "text": [
      "start\n",
      "[[13  0  0  0]\n",
      " [ 0  8  0  0]\n",
      " [ 0  0 10  0]\n",
      " [ 1  0  0  9]]\n"
     ]
    },
    {
     "data": {
      "image/png": "[encoded data removed]",
      "text/plain": [
       "<matplotlib.figure.Figure at 0x26c41a914e0>"
      ]
     },
     "metadata": {},
     "output_type": "display_data"
    },
    {
     "name": "stdout",
     "output_type": "stream",
     "text": [
      "finished\n"
     ]
    }
   ],
   "source": [
    "if __name__ == '__main__':\n",
    "    \n",
    "    print (\"start\")\n",
    "\n",
    "    folder_path = 'Database/SogouC/Sample'\n",
    "    data_list, class_list, all_words_list, train_data_list, test_data_list, train_class_list, test_class_list = text_processing(folder_path, test_size=0.2)\n",
    "\n",
    "    # get stopwords_set\n",
    "    stopwords_file = 'stopwords_cn.txt'\n",
    "    stopwords_set = make_word_set(stopwords_file)\n",
    "\n",
    "    # deleteNs means the first position we choose the feature words\n",
    "    deleteN = 20\n",
    "    test_accuracy_list = []\n",
    "    #for deleteN in deleteNs:\n",
    "    feature_words = words_dict(all_words_list, deleteN, stopwords_set)\n",
    "    data, train_feature_list, test_feature_list = text_features(data_list, train_data_list, test_data_list, feature_words,flag='NB')\n",
    "    cm, test_accuracy = text_classifier(train_feature_list, test_feature_list, train_class_list, test_class_list,flag='NB')\n",
    "#     test_accuracy_list.append(test_accuracy)\n",
    "#     best_accuracy = sorted(test_accuracy_list)[-1]\n",
    "    \n",
    "#     print (best_accuracy)\n",
    "    print(cm)\n",
    "    sns.heatmap(cm,annot=True,fmt=\"d\")\n",
    "    plt.show()\n",
    "#     # 结果评价\n",
    "#     plt.figure()\n",
    "#     plt.plot(deleteNs, test_accuracy_list)\n",
    "#     plt.title('Relationship of deleteNs and test_accuracy_NB')\n",
    "#     plt.xlabel('deleteNs')\n",
    "#     plt.ylabel('test_accuracy')\n",
    "#     plt.show()\n",
    "#     plt.savefig('result_NB.png')\n",
    "\n",
    "    print (\"finished\")"
   ]
  },
  {
   "cell_type": "code",
   "execution_count": null,
   "metadata": {},
   "outputs": [],
   "source": []
  }
 ],
 "metadata": {
  "kernelspec": {
   "display_name": "Python 3",
   "language": "python",
   "name": "python3"
  },
  "language_info": {
   "codemirror_mode": {
    "name": "ipython",
    "version": 3
   },
   "file_extension": ".py",
   "mimetype": "text/x-python",
   "name": "python",
   "nbconvert_exporter": "python",
   "pygments_lexer": "ipython3",
   "version": "3.5.4"
  }
 },
 "nbformat": 4,
 "nbformat_minor": 2
}
