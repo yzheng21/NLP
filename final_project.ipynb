{
 "cells": [
  {
   "cell_type": "markdown",
   "metadata": {},
   "source": [
    "## 思路：\n",
    "1.将文件夹中的txt文件读取出来（去重）放入集合，然后对他们进行切词，并且分为训练和测试集\n",
    "2.将词根据词频从大到小排列放入列表，选取特征词\n",
    "3.将训练集和测试集的词和选取的特征词进行比较，得到特征词训练和测试集\n",
    "4.将得到的训练集和测试集放入nltk分类器，得到正确率"
   ]
  },
  {
   "cell_type": "code",
   "execution_count": 1,
   "metadata": {},
   "outputs": [],
   "source": [
    "#coding: utf-8\n",
    "import os\n",
    "import jieba  #处理中文\n",
    "import nltk  #处理英文\n",
    "#from sklearn.naive_bayes import MultinomialNB\n",
    "import matplotlib.pyplot as plt\n",
    "from sklearn.model_selection import train_test_split\n",
    "from sklearn.metrics import confusion_matrix\n",
    "from sklearn import svm\n",
    "from sklearn.multiclass import OneVsRestClassifier\n",
    "from sklearn.model_selection import cross_val_score\n",
    "from collections import Counter"
   ]
  },
  {
   "cell_type": "code",
   "execution_count": 51,
   "metadata": {},
   "outputs": [],
   "source": [
    "#将stopwords里面的单词去重\n",
    "def make_word_set(words_file):\n",
    "    words_set = set()\n",
    "    with open(words_file, 'rb') as fp:\n",
    "        for line in fp.readlines():\n",
    "            word = line.strip().decode('utf-8')\n",
    "            if len(word)>0 and word not in words_set: # 去重\n",
    "                words_set.add(word)\n",
    "    return words_set\n"
   ]
  },
  {
   "cell_type": "code",
   "execution_count": 52,
   "metadata": {},
   "outputs": [],
   "source": [
    "# 文本处理，也就是样本生成过程\n",
    "def text_processing(folder_path, test_size=0.4):\n",
    "    folder_list = os.listdir(folder_path)\n",
    "    data_list = []\n",
    "    class_list = []\n",
    "\n",
    "    # 遍历文件夹\n",
    "    for folder in folder_list:\n",
    "        new_folder_path = os.path.join(folder_path, folder)\n",
    "        files = os.listdir(new_folder_path)\n",
    "        # 读取文件\n",
    "        j = 1\n",
    "        for file in files:\n",
    "            if j > 100:  # 怕内存爆掉，只取100个样本文件，你可以注释掉取完\n",
    "                break\n",
    "            with open(os.path.join(new_folder_path, file), 'rb') as fp:\n",
    "                raw = fp.read().decode('utf-8')\n",
    "            ## 是的，随处可见的jieba中文分词\n",
    "            #jieba.enable_parallel(4)  # 开启并行分词模式，参数为并行进程数，不支持windows\n",
    "            word_cut = jieba.cut(raw, cut_all=False)  # 精确模式，返回的结构是一个可迭代的genertor\n",
    "            word_list = list(word_cut)  # genertor转化为list，每个词unicode格式\n",
    "            #jieba.disable_parallel()  # 关闭并行分词模式\n",
    "\n",
    "            data_list.append(word_list)  # 训练集list\n",
    "            class_list.append(folder)  # 类别\n",
    "            j += 1\n",
    "\n",
    "    ## 粗暴地划分训练集和测试集\n",
    "    # data_class_list = zip(data_list, class_list)\n",
    "    # data_class_list = list(data_class_list)\n",
    "    # random.shuffle(data_class_list)\n",
    "    # index = int(len(data_class_list) * test_size) + 1\n",
    "    # train_list = data_class_list[index:]\n",
    "    # test_list = data_class_list[:index]\n",
    "    # train_data_list, train_class_list = list(zip(*train_list))\n",
    "    # test_data_list, test_class_list = list(zip(*test_list))\n",
    "\n",
    "    # 其实可以用sklearn自带的部分做\n",
    "    train_data_list, test_data_list, train_class_list, test_class_list = train_test_split(data_list, class_list, test_size=test_size)\n",
    "\n",
    "    # 统计词频放入all_words_dict\n",
    "    # all_words_dict = {}\n",
    "    # for word_list in train_data_list:\n",
    "    #     for word in word_list:\n",
    "    #         if word in all_words_dict:\n",
    "    #             all_words_dict[word] += 1\n",
    "    #         else:\n",
    "    #             all_words_dict[word] = 1\n",
    "    all_words_dict = {}\n",
    "    for word_list in train_data_list:\n",
    "        words_dict = Counter([word for word in word_list])\n",
    "        all_words_dict = dict(Counter(all_words_dict)+words_dict)\n",
    "    # key函数利用词频进行降序排序\n",
    "    all_words_tuple_list = sorted(all_words_dict.items(), key=lambda f: f[1], reverse=True)  # 内建函数sorted参数需为list\n",
    "    all_words_list = list(zip(*all_words_tuple_list))[0]\n",
    "\n",
    "    return all_words_list, train_data_list, test_data_list, train_class_list, test_class_list\n"
   ]
  },
  {
   "cell_type": "code",
   "execution_count": 53,
   "metadata": {},
   "outputs": [],
   "source": [
    "def words_dict(all_words_list, deleteN, stopwords_set=set()):\n",
    "    # 选取特征词\n",
    "    feature_words = []\n",
    "    n = 1\n",
    "    for t in range(deleteN, len(all_words_list), 1):\n",
    "        if n > 1000:  # feature_words的维度1000\n",
    "            break\n",
    "\n",
    "        if not all_words_list[t].isdigit() and all_words_list[t] not in stopwords_set and 1 < len(\n",
    "                all_words_list[t]) < 5:\n",
    "            feature_words.append(all_words_list[t])\n",
    "            n += 1\n",
    "    return feature_words\n"
   ]
  },
  {
   "cell_type": "markdown",
   "metadata": {},
   "source": [
    "text_features这个函数目的是将训练集和测试集中的文本和生成的特征词文本进行比较，如果是特征词返回1，不是返回0，生成训练特征集和测试特征集"
   ]
  },
  {
   "cell_type": "code",
   "execution_count": 54,
   "metadata": {},
   "outputs": [],
   "source": [
    "# 文本特征\n",
    "def text_features(train_data_list, test_data_list, feature_words, flag='nltk'):\n",
    "    def text_features(text, feature_words):\n",
    "        text_words = set(text)\n",
    "        ## -----------------------------------------------------------------------------------\n",
    "        if flag == 'nltk':\n",
    "            ## nltk特征 dict\n",
    "            features = {word:1 if word in text_words else 0 for word in feature_words}\n",
    "        elif flag == 'sklearn':\n",
    "            ## sklearn特征 list\n",
    "            features = [1 if word in text_words else 0 for word in feature_words]\n",
    "        else:\n",
    "            features = []\n",
    "        ## -----------------------------------------------------------------------------------\n",
    "        return features\n",
    "    train_feature_list = [text_features(text, feature_words) for text in train_data_list]\n",
    "    test_feature_list = [text_features(text, feature_words) for text in test_data_list]\n",
    "    return train_feature_list, test_feature_list\n",
    "\n"
   ]
  },
  {
   "cell_type": "markdown",
   "metadata": {},
   "source": [
    "分类器：选用了nltk中的朴素贝叶斯分类器和sklearn的svm进行多分类"
   ]
  },
  {
   "cell_type": "code",
   "execution_count": 55,
   "metadata": {},
   "outputs": [],
   "source": [
    "# 分类，同时输出准确率等\n",
    "def text_classifier(train_feature_list, test_feature_list, train_class_list, test_class_list, flag='nltk'):\n",
    "    ## -----------------------------------------------------------------------------------\n",
    "    if flag == 'nltk':\n",
    "        ## 使用nltk分类器\n",
    "        train_flist = zip(train_feature_list, train_class_list)\n",
    "        test_flist = zip(test_feature_list, test_class_list)\n",
    "        classifier = nltk.classify.NaiveBayesClassifier.train(train_flist)\n",
    "        test_accuracy = nltk.classify.accuracy(classifier, test_flist)\n",
    "    elif flag == 'sklearn':\n",
    "        ## sklearn分类器\n",
    "        model = OneVsRestClassifier(svm.SVC(kernel='linear'))\n",
    "#         classifier = model.fit(train_feature_list, train_class_list)\n",
    "        test_accuracy= sorted(cross_val_score(model,train_feature_list, train_class_list,cv=5), reverse = True)[0]\n",
    "#         test_accuracy = classifier.score(test_feature_list, test_class_list)\n",
    "#         y_predict_test = classifier.predict(test_feature_list)\n",
    "#         cm = confusion_matrix(test_class_list, y_predict_test)\n",
    "    else:\n",
    "        test_accuracy = []\n",
    "    return test_accuracy\n"
   ]
  },
  {
   "cell_type": "code",
   "execution_count": 56,
   "metadata": {},
   "outputs": [
    {
     "name": "stdout",
     "output_type": "stream",
     "text": [
      "start\n",
      "0.888888888889\n"
     ]
    },
    {
     "data": {
      "text/plain": [
       "<matplotlib.figure.Figure at 0x1f33c62fbe0>"
      ]
     },
     "metadata": {},
     "output_type": "display_data"
    },
    {
     "data": {
      "image/png": "[encoded data removed]",
      "text/plain": [
       "<matplotlib.figure.Figure at 0x1f33d975a90>"
      ]
     },
     "metadata": {},
     "output_type": "display_data"
    },
    {
     "name": "stdout",
     "output_type": "stream",
     "text": [
      "finished\n"
     ]
    }
   ],
   "source": [
    "if __name__ == '__main__':\n",
    "    \n",
    "    print (\"start\")\n",
    "\n",
    "    ## 文本预处理\n",
    "    folder_path = 'Database/SogouC/Sample'\n",
    "    all_words_list, train_data_list, test_data_list, train_class_list, test_class_list = text_processing(folder_path, test_size=0.2)\n",
    "\n",
    "    # 生成stopwords_set\n",
    "    stopwords_file = 'stopwords_cn.txt'\n",
    "    stopwords_set = make_word_set(stopwords_file)\n",
    "\n",
    "    ## 文本特征提取和分类\n",
    "    deleteNs = range(0, 800, 20)\n",
    "    test_accuracy_list = []\n",
    "    for deleteN in deleteNs:\n",
    "        feature_words = words_dict(all_words_list, deleteN, stopwords_set)\n",
    "        train_feature_list, test_feature_list = text_features(train_data_list, test_data_list, feature_words, flag='sklearn')\n",
    "        #test_accuracy = text_classifier(train_feature_list, test_feature_list, train_class_list, test_class_list, flag)\n",
    "        test_accuracy = text_classifier(train_feature_list, test_feature_list, train_class_list, test_class_list, flag='sklearn')\n",
    "        test_accuracy_list.append(test_accuracy)\n",
    "    best_accuracy = sorted(test_accuracy_list)[-1]\n",
    "    \n",
    "    print ( best_accuracy)\n",
    "    \n",
    "\n",
    "    # 结果评价\n",
    "    plt.figure()\n",
    "    plt.plot(deleteNs, test_accuracy_list)\n",
    "    plt.title('Relationship of deleteNs and test_accuracy')\n",
    "    plt.xlabel('deleteNs')\n",
    "    plt.ylabel('test_accuracy')\n",
    "    plt.show()\n",
    "    plt.savefig('result.png')\n",
    "\n",
    "    print (\"finished\")"
   ]
  },
  {
   "cell_type": "code",
   "execution_count": null,
   "metadata": {},
   "outputs": [],
   "source": []
  }
 ],
 "metadata": {
  "kernelspec": {
   "display_name": "Python 3",
   "language": "python",
   "name": "python3"
  },
  "language_info": {
   "codemirror_mode": {
    "name": "ipython",
    "version": 3
   },
   "file_extension": ".py",
   "mimetype": "text/x-python",
   "name": "python",
   "nbconvert_exporter": "python",
   "pygments_lexer": "ipython3",
   "version": "3.5.4"
  }
 },
 "nbformat": 4,
 "nbformat_minor": 2
}
